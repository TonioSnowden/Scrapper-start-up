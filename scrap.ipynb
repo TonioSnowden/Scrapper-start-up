{
 "cells": [
  {
   "cell_type": "code",
   "execution_count": 36,
   "metadata": {},
   "outputs": [],
   "source": [
    "import requests\n",
    "from bs4 import BeautifulSoup\n",
    "\n",
    "# URL of the webpage to scrape\n",
    "url = \"https://www.epfl.ch/innovation/startup/discover-our-startups/epfl-startup-in-creation/\"\n",
    "\n",
    "\n",
    "headers = {\n",
    "    \"User-Agent\": \"Mozilla/5.0 (Windows NT 10.0; Win64; x64) AppleWebKit/537.36 (KHTML, like Gecko) Chrome/58.0.3029.110 Safari/537.36\"\n",
    "}\n",
    "\n",
    "response = requests.get(url, headers=headers)\n",
    "# Send a GET request to the webpage\n",
    "soup = BeautifulSoup(response.text, 'html.parser')\n",
    "\n",
    "table_figure = soup.find('figure', class_='wp-block-table')"
   ]
  },
  {
   "cell_type": "code",
   "execution_count": 37,
   "metadata": {},
   "outputs": [
    {
     "data": {
      "text/plain": [
       "<figure class=\"wp-block-table\"><table><thead><tr><th>Startup <br/>Project</th><th>Description</th><th>Sector</th><th>Project Leader</th><th>Exec.Summary</th></tr></thead><tbody><tr><td><a data-id=\"https://adamu.tech/\" data-type=\"URL\" href=\"https://adamu.tech/\" rel=\"noreferrer noopener\" target=\"_blank\">AdaMu</a></td><td>Simplifying music composition by bringing new technologies to creators</td><td>ICT</td><td>Florian Colombo</td><td><a href=\"https://www.epfl.ch/innovation/startup/wp-content/uploads/2023/09/AdaMu_December2022_vSP_final.pdf\" rel=\"noreferrer noopener\" target=\"_blank\">📰</a></td></tr><tr><td>AeroSpec</td><td>Using infrared spectroscopy for in-depth aerosol air pollution analysis</td><td>Cleantech</td><td>Nikunj Dudani</td><td><a href=\"https://www.epfl.ch/innovation/startup/wp-content/uploads/2023/09/AeroSpec_April2023_vSP_final.pdf\" rel=\"noreferrer noopener\" target=\"_blank\">📰</a></td></tr><tr><td>Anake</td><td>First curative treatment for cardiac fibrosis – via CAR-NK engineered cells</td><td>Biotech</td><td>Angela Madurga Alonso and Mathieu Girardin</td><td><a href=\"https://www.epfl.ch/innovation/startup/wp-content/uploads/2023/09/Anake-August-2023.pdf\" rel=\"noreferrer noopener\" target=\"_blank\">📰</a></td></tr><tr><td>CassioP</td><td>Maintenance-free, powerful, and accessible femtosecond lasers</td><td>Engineering</td><td>Antoine Delgoffe</td><td><a href=\"https://www.epfl.ch/innovation/startup/wp-content/uploads/2023/09/CassioP_December2022_vSP_final.pdf\" rel=\"noreferrer noopener\" target=\"_blank\">📰</a></td></tr><tr><td><a href=\"https://actu.epfl.ch/news/epfl-tech-launchpad-award-two-new-ignition-grant/\">Consulto</a></td><td>The world’s first virtual clinic specialising in team-based care for patients with complex health needs</td><td>ICT</td><td><a href=\"/cdn-cgi/l/email-protection#385a59505d4a1650515f594241785b57564b4d544c57155b50165b5755\" rel=\"noreferrer noopener\" target=\"_blank\">Baher Higazy</a> and <a href=\"/cdn-cgi/l/email-protection#5a383b293f377432333d3b20231a393534292f362e3577393274393537\">Basem Higazy</a></td><td></td></tr><tr><td><a href=\"https://elythor.com/\" rel=\"noreferrer noopener\" target=\"_blank\">Elythor</a></td><td>Low-cost, high-precision energy infrastructure inspection through a morphing drone</td><td>Engineering</td><td>Harry Vourtsis and Nathan Müller</td><td><a href=\"https://www.epfl.ch/innovation/startup/wp-content/uploads/2023/09/Elythor_May2023_vSP_final.pdf\" rel=\"noreferrer noopener\" target=\"_blank\">📰</a></td></tr><tr><td><a href=\"https://actu.epfl.ch/news/the-fit-and-epfl-tech-launchpad-award-three-new-in/\">FiberLab</a></td><td>Improving the quality of life for those with chronic wounds thanks to personalized care in their home</td><td>Medtech</td><td>Bastien Schyrr</td><td><a href=\"https://www.epfl.ch/innovation/startup/wp-content/uploads/2023/09/Fiberlab_July2023.pdf\" rel=\"noreferrer noopener\" target=\"_blank\">📰</a></td></tr><tr><td><a href=\"https://www.levoframework.com/\" rel=\"noreferrer noopener\" target=\"_blank\">Levo</a></td><td>A platform to empower startups and SMEs to grow into sustainable businesses</td><td>ICT</td><td><a href=\"/cdn-cgi/l/email-protection#afd6cec1c181ccc0dcdbceefdac1c6c381ccc7\" rel=\"noreferrer noopener\" target=\"_blank\">Yann Costa</a></td><td></td></tr><tr><td><a href=\"http://www.divea.ch/\" rel=\"noreferrer noopener\" target=\"_blank\">Divea</a></td><td>Capturing CO2 emissions at their source through nanoporous graphene membranes</td><td>Cleantech</td><td>Karl Khalil and Mojtaba Rezaei</td><td><a href=\"https://www.epfl.ch/innovation/startup/wp-content/uploads/2023/09/Divea_July2023.pdf\" rel=\"noreferrer noopener\" target=\"_blank\">📰</a></td></tr><tr><td>Mechagel</td><td>Ground breaking adhesive hydrogel for the treatment of knee cartilage lesions</td><td>Medtech</td><td>Peyman Karami</td><td><a href=\"https://www.epfl.ch/innovation/startup/wp-content/uploads/2023/09/MechaGel_August2023_vSP_final.pdf\" rel=\"noreferrer noopener\" target=\"_blank\">📰</a></td></tr><tr><td>Muse</td><td>A pioneering audience evaluation app</td><td>ArtTech</td><td><a href=\"/cdn-cgi/l/email-protection#6c010d1e1542150d0f030e2c091c0a00420f04\" rel=\"noreferrer noopener\" target=\"_blank\">Mary Yacob</a></td><td></td></tr><tr><td><a href=\"https://nanodecoder.com/\" rel=\"noreferrer noopener\" target=\"_blank\">Nanodecoder</a></td><td>Fast, cheap, on-site molecular-based anti-counterfeiting and authentication</td><td>Engineering</td><td><a href=\"/cdn-cgi/l/email-protection#55363d343b7b36343a15302533397b363d\" rel=\"noreferrer noopener\" target=\"_blank\">Chan Cao</a>, <a href=\"/cdn-cgi/l/email-protection#4d37252429242c236337252c232a0d283d2b21632e25\" rel=\"noreferrer noopener\" target=\"_blank\">Zhidian Zhang</a> and <a href=\"/cdn-cgi/l/email-protection#b2c1d3dbded3dc9cc1dac7dbf2d7c2d4de9cd1da\" rel=\"noreferrer noopener\" target=\"_blank\">Sailan Shui</a></td><td></td></tr><tr><td><a href=\"https://asknostoi.com/\" rel=\"noreferrer noopener\" target=\"_blank\">Nostoi</a></td><td>Personal teaching assistant that allows students to upload their slides, lecture notes, readings and provides them personalized explanations for the concepts they don’t understand</td><td>ICT</td><td><a href=\"/cdn-cgi/l/email-protection#baccdfd4d3dbd7d3d494ccdfc9dfd6d5ccc9d1c3fadfcadcd694d9d2\" rel=\"noreferrer noopener\" target=\"_blank\">Veniamin Veselovsky</a></td><td></td></tr><tr><td>SIMORGH</td><td>Automatic and high precision Acoustic Emission–MicroSeismic monitoring</td><td>Engineering</td><td><a href=\"/cdn-cgi/l/email-protection#c7b4a2bebea2a3aaa6a6aba2ace9aaa8aaa2a9ae87a2b7a1abe9a4af\" rel=\"noreferrer noopener\" target=\"_blank\">Momeni Seyyedmaalek</a></td><td></td></tr><tr><td><a href=\"https://soleva.org/fr\" rel=\"noreferrer noopener\" target=\"_blank\">Soleva</a></td><td>Solar electric van</td><td>Cleantech</td><td><a href=\"/cdn-cgi/l/email-protection#7c1f090e181512520b091908140e151f143c0f1310190a1d52130e1b\" rel=\"noreferrer noopener\" target=\"_blank\">Curdin Wüthrich</a></td><td></td></tr><tr><td><a href=\"https://www.synature.ch/en/home\" rel=\"noreferrer noopener\" target=\"_blank\">Synature</a></td><td>AI-based system that can audio detect wildlife in real-time</td><td>Engineering</td><td><a href=\"/cdn-cgi/l/email-protection#355a595c435c50471b464154505d595c75504553591b565d\" rel=\"noreferrer noopener\" target=\"_blank\">Olivier Stähli</a> and <a href=\"/cdn-cgi/l/email-protection#55383c2c347b333027273c26263015302533397b363d\" rel=\"noreferrer noopener\" target=\"_blank\">Miya Ferrisse</a></td><td></td></tr><tr><td><a href=\"https://timedesigners.io/\" rel=\"noreferrer noopener\" target=\"_blank\">Time Designers</a></td><td>Conceiving the next generation of watches, designed for curious minds</td><td>Engineering</td><td><a href=\"/cdn-cgi/l/email-protection#26564f435454430b474b4753545f084748524948664356404a08454e\" rel=\"noreferrer noopener\" target=\"_blank\">Pierre-Amaury Anton</a></td><td></td></tr><tr><td>Navintis</td><td>The first flow-directed magnetically-steered microcatheter</td><td>Medtech</td><td><a href=\"/cdn-cgi/l/email-protection#6c00190f0503421c0d020f0d0008052c091c0a00420f04\" rel=\"noreferrer noopener\" target=\"_blank\">Lucio Pancaldi-Giubbini</a> and <a data-id=\"mailto:ece.ozelci@epfl.ch\" data-type=\"mailto\" href=\"/cdn-cgi/l/email-protection#f0959395de9f8a959c9399b09580969cde9398\" rel=\"noreferrer noopener\" target=\"_blank\">Ece Ozelci</a></td><td></td></tr><tr><td><a href=\"https://www.seastem.co/\" rel=\"noreferrer noopener\" target=\"_blank\">SeaStem</a></td><td>Shaping a healthier planet by empowering sustainable seaweed production</td><td>Cleantech </td><td>Mathias Baumann</td><td><a href=\"https://www.epfl.ch/innovation/startup/wp-content/uploads/2023/09/SeaStem_May2023_vSP_final.pdf\" rel=\"noreferrer noopener\" target=\"_blank\">📰</a></td></tr><tr><td><a href=\"https://www.naialabs.com/\" rel=\"noreferrer noopener\" target=\"_blank\">naialabs</a></td><td>At-home finger-prick test which can measure the most important biomarkers for immune diagnostics</td><td>Biotech</td><td>Grégoire Michielin, Hon Ming Yip and Evan Olson</td><td><a href=\"https://www.epfl.ch/innovation/startup/wp-content/uploads/2023/10/naialabs_September2023.pdf\" rel=\"noreferrer noopener\" target=\"_blank\">📰</a></td></tr><tr><td>Maven Health</td><td>Improving global health through personalised metabolic health predictions enabling early-stage preventative care</td><td>Biotech</td><td>Christopher Wall</td><td><a href=\"https://www.epfl.ch/innovation/startup/wp-content/uploads/2023/09/Maven-Health_May2023_vSP_final.pdf\">📰</a></td></tr><tr><td><a href=\"https://intuitivescience.ch/\" rel=\"noreferrer noopener\" target=\"_blank\">Intuitive Science</a></td><td>Empowering tomorrow’s great minds to solve global challenges through accessible science education</td><td>Edtech</td><td>Austin Peel</td><td><a href=\"https://www.epfl.ch/innovation/startup/wp-content/uploads/2023/09/IntuitiveScience_February2023_vSP_final.pdf\" rel=\"noreferrer noopener\" target=\"_blank\">📰</a></td></tr><tr><td><a href=\"https://thot.so/\" rel=\"noreferrer noopener\" target=\"_blank\">Thot</a></td><td>Accelerating scientific discovery through data sharing, collaboration, and accessibility</td><td>ICT</td><td>Brian Carlsen</td><td><a href=\"https://www.epfl.ch/innovation/startup/wp-content/uploads/2023/09/Thot_February2023_vSP_final.pdf\" rel=\"noreferrer noopener\" target=\"_blank\">📰</a></td></tr><tr><td>AirCurve Medical</td><td>Machine vision-guided endotrachael intubation technology</td><td>MedTech</td><td>André Mercanzini and Patrick Schoettker</td><td><a href=\"https://www.epfl.ch/innovation/startup/wp-content/uploads/2023/09/AirCurve_August2023_vSP_final.pdf\" rel=\"noreferrer noopener\" target=\"_blank\">📰</a></td></tr><tr><td>CellTherapy</td><td>High throughput intracellular delivery enabling gene and cell therapy</td><td>BioTech</td><td><a href=\"/cdn-cgi/l/email-protection#c8a5a1afbdada4e6bba7a4bba7a6a988adb8aea4e6aba0\" rel=\"noreferrer noopener\" target=\"_blank\">Miguel Solsona</a></td><td></td></tr><tr><td>Dewi</td><td>Improving anxieties with data predictive modeling</td><td>MedTech</td><td>Marliawaty I Gusti Bagus</td><td><a href=\"https://www.epfl.ch/innovation/startup/wp-content/uploads/2023/09/Dewi_September2023_vSP_final.pdf\" rel=\"noreferrer noopener\" target=\"_blank\">📰</a></td></tr><tr><td><a href=\"https://insitustretech.com/\" rel=\"noreferrer noopener\" target=\"_blank\">InSituStreTech</a></td><td>Providing accurate and reliable in-situ stress data required for safe carbon capture and storage</td><td>CleanTech</td><td><a href=\"/cdn-cgi/l/email-protection#244548415c0a4c4b565245504c64415442480a474c\" rel=\"noreferrer noopener\" target=\"_blank\">Alex Horvath</a></td><td></td></tr><tr><td><a href=\"https://miros.technology/\" rel=\"noreferrer noopener\" target=\"_blank\">MIROS Technology</a></td><td>Interactive robotic surfaces to build reconfigurable, modular and interactive spaces</td><td>Engineering</td><td>Fabian Zuliani and Neil Chennoufi</td><td><a href=\"https://www.epfl.ch/innovation/startup/wp-content/uploads/2023/09/MIROSTechnology_August2023_vSP_final.pdf\" rel=\"noreferrer noopener\" target=\"_blank\">📰</a></td></tr><tr><td>REMA</td><td>Opening up access to cost-effective and high-quality green hydrogen through a membrane-less electrolyser</td><td>CleanTech</td><td>Steven Schenk and Ioakeim Sioutis</td><td><a href=\"https://www.epfl.ch/innovation/startup/wp-content/uploads/2023/09/REMA-August-2023.pdf\" rel=\"noreferrer noopener\" target=\"_blank\">📰</a></td></tr><tr><td>WasteFlow</td><td>Improving recycling processes through a learning-based AI vision system</td><td>CleanTech</td><td>Valentin Ibars</td><td><a href=\"https://www.epfl.ch/innovation/startup/wp-content/uploads/2023/09/Wasteflow-August-2023_vSP_final.pdf\" rel=\"noreferrer noopener\" target=\"_blank\">📰</a></td></tr><tr><td>Protonica</td><td>Making proton therapy accessible</td><td>Engineering</td><td><a href=\"/cdn-cgi/l/email-protection#b3c5d6c1dcdddad0d29ddfd6d0d0d6c0d6f3d6c3d5df9dd0db\" rel=\"noreferrer noopener\" target=\"_blank\">Veronica Leccese</a> and <a href=\"/cdn-cgi/l/email-protection#482a2d2627213c663c3a3d2b082d382e24662b20\" rel=\"noreferrer noopener\" target=\"_blank\">Benoît Truc</a></td><td></td></tr></tbody></table></figure>"
      ]
     },
     "execution_count": 37,
     "metadata": {},
     "output_type": "execute_result"
    }
   ],
   "source": [
    "table_figure"
   ]
  },
  {
   "cell_type": "code",
   "execution_count": 38,
   "metadata": {},
   "outputs": [],
   "source": [
    "tbody_element = table_figure.find('tbody')"
   ]
  },
  {
   "cell_type": "code",
   "execution_count": 39,
   "metadata": {},
   "outputs": [],
   "source": [
    "startup_names = []\n",
    "for tr_element in tbody_element.find_all('tr'):\n",
    "        # Find the first <td> element within the <tr> and extract its text\n",
    "        first_td_element = tr_element.find('td')\n",
    "        startup_name = first_td_element.get_text(strip=True) if first_td_element else \"N/A\"\n",
    "        startup_names.append(startup_name)"
   ]
  },
  {
   "cell_type": "code",
   "execution_count": 40,
   "metadata": {},
   "outputs": [
    {
     "name": "stdout",
     "output_type": "stream",
     "text": [
      "No new startup names found.\n"
     ]
    }
   ],
   "source": [
    "import csv\n",
    "\n",
    "# Load the CSV file\n",
    "csv_file_path = \"start_up_old_name.csv\"  # Replace with the path to your CSV file\n",
    "new_names = []\n",
    "\n",
    "with open(csv_file_path, 'r', newline='') as csvfile:\n",
    "    reader = csv.reader(csvfile)\n",
    "    \n",
    "    # Read the existing names from the CSV file\n",
    "    existing_names = [row[0] for row in reader]\n",
    "    \n",
    "    # Compare with the startup_names array\n",
    "    for name in startup_names:\n",
    "        if name not in existing_names:\n",
    "            new_names.append(name)\n",
    "\n",
    "# Print new names\n",
    "if new_names:\n",
    "    print(\"New startup names found:\")\n",
    "    for new_name in new_names:\n",
    "        print(new_name)\n",
    "    \n",
    "    # Ask for confirmation to update the CSV file\n",
    "    confirm = input(\"Do you want to replace the CSV file with the new names? (yes/no): \").strip().lower()\n",
    "    \n",
    "    if confirm == \"yes\":\n",
    "        # Update the CSV file with the new names\n",
    "        with open(csv_file_path, 'w', newline='') as csvfile:\n",
    "            writer = csv.writer(csvfile)\n",
    "            writer.writerows([[name] for name in startup_names])\n",
    "        print(f\"The CSV file '{csv_file_path}' has been updated.\")\n",
    "    else:\n",
    "        print(\"No changes were made to the CSV file.\")\n",
    "else:\n",
    "    print(\"No new startup names found.\")\n"
   ]
  }
 ],
 "metadata": {
  "kernelspec": {
   "display_name": "myenv",
   "language": "python",
   "name": "python3"
  },
  "language_info": {
   "codemirror_mode": {
    "name": "ipython",
    "version": 3
   },
   "file_extension": ".py",
   "mimetype": "text/x-python",
   "name": "python",
   "nbconvert_exporter": "python",
   "pygments_lexer": "ipython3",
   "version": "3.9.16"
  },
  "orig_nbformat": 4
 },
 "nbformat": 4,
 "nbformat_minor": 2
}
